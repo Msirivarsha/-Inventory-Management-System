{
 "cells": [
  {
   "cell_type": "code",
   "execution_count": 2,
   "id": "82537b32",
   "metadata": {},
   "outputs": [],
   "source": [
    "fd = open(\"inventory.txt\" ,\"r\")\n",
    "products =fd.read().split('\\n')\n",
    "fd.close()\n"
   ]
  },
  {
   "cell_type": "code",
   "execution_count": 3,
   "id": "b933a669",
   "metadata": {},
   "outputs": [
    {
     "name": "stdout",
     "output_type": "stream",
     "text": [
      "1,chocolate,10,100\n",
      "2,biscuits,20,100\n",
      "3,veggies,40,1000\n"
     ]
    }
   ],
   "source": [
    "fd = open(\"inventory.txt\" ,\"r\")\n",
    "print(fd.read())"
   ]
  },
  {
   "cell_type": "code",
   "execution_count": 4,
   "id": "51dd2db8",
   "metadata": {},
   "outputs": [
    {
     "data": {
      "text/plain": [
       "['1,chocolate,10,100', '2,biscuits,20,100', '3,veggies,40,1000']"
      ]
     },
     "execution_count": 4,
     "metadata": {},
     "output_type": "execute_result"
    }
   ],
   "source": [
    "products"
   ]
  },
  {
   "cell_type": "code",
   "execution_count": 5,
   "id": "272122dd",
   "metadata": {},
   "outputs": [
    {
     "name": "stdout",
     "output_type": "stream",
     "text": [
      "1\n"
     ]
    }
   ],
   "source": [
    "fd = open(\"inventory.txt\" ,\"r\")\n",
    "print(fd.read().split(\" \").__len__())"
   ]
  },
  {
   "cell_type": "code",
   "execution_count": 6,
   "id": "58bae566",
   "metadata": {},
   "outputs": [
    {
     "name": "stdout",
     "output_type": "stream",
     "text": [
      "1,chocolate,10,100\n",
      "2,biscuits,20,100\n",
      "3,veggies,40,1000\n"
     ]
    }
   ],
   "source": [
    "for product in products:\n",
    "    print(product)\n",
    "    "
   ]
  },
  {
   "cell_type": "code",
   "execution_count": 7,
   "id": "6e8c9a85",
   "metadata": {},
   "outputs": [
    {
     "name": "stdout",
     "output_type": "stream",
     "text": [
      "1,chocolate,10,100\n",
      "2,biscuits,20,100\n",
      "3,veggies,40,1000\n"
     ]
    }
   ],
   "source": [
    "for product in products:\n",
    "    print(product.split(' ')[0])\n",
    "    "
   ]
  },
  {
   "cell_type": "code",
   "execution_count": 8,
   "id": "7ccba53d",
   "metadata": {},
   "outputs": [
    {
     "name": "stdout",
     "output_type": "stream",
     "text": [
      "enter product id :1\n"
     ]
    }
   ],
   "source": [
    "uid= input(\"enter product id :\")\n",
    "for product in products:\n",
    "    if(product.split(' ')[0] == uid):\n",
    "        print(product)"
   ]
  },
  {
   "cell_type": "code",
   "execution_count": 9,
   "id": "b61b24b5",
   "metadata": {},
   "outputs": [],
   "source": [
    "fd = open(\"inventory.txt\" ,\"r\")\n",
    "product=fd.read().split(\"\\n\")\n",
    "for product in products:\n",
    "    product=product.split(\" \")\n",
    "    if(product[0]==\"1\"):\n",
    "        print(product)"
   ]
  },
  {
   "cell_type": "code",
   "execution_count": 10,
   "id": "622f1a2b",
   "metadata": {},
   "outputs": [],
   "source": [
    "fd = open(\"inventory.txt\" ,\"r\")\n",
    "product=fd.read().split(\"\\n\")\n",
    "for product in products:\n",
    "    product=product.split(\" \")\n",
    "    if(product[0]==1 or product[0]==\"1\"):\n",
    "        print(product)"
   ]
  },
  {
   "cell_type": "code",
   "execution_count": 11,
   "id": "61c94747",
   "metadata": {},
   "outputs": [
    {
     "name": "stdout",
     "output_type": "stream",
     "text": [
      "1\n",
      "2\n",
      "3\n"
     ]
    }
   ],
   "source": [
    "fd = open(\"inventory.txt\" ,\"r\")\n",
    "for i in products:\n",
    "    print(i[0])"
   ]
  },
  {
   "cell_type": "code",
   "execution_count": 12,
   "id": "06b13af4",
   "metadata": {},
   "outputs": [
    {
     "name": "stdout",
     "output_type": "stream",
     "text": [
      "chocolate\n",
      "biscuits\n",
      "veggies\n"
     ]
    }
   ],
   "source": [
    "fd = open(\"inventory.txt\" ,\"r\")\n",
    "product=fd.read().split(\"\\n\")\n",
    "for product in products:\n",
    "    product=product.split(\",\")\n",
    "    print(product[1])"
   ]
  },
  {
   "cell_type": "code",
   "execution_count": 13,
   "id": "814c005b",
   "metadata": {},
   "outputs": [
    {
     "name": "stdout",
     "output_type": "stream",
     "text": [
      "enter product id:2\n",
      "Enter product quantity :1\n"
     ]
    }
   ],
   "source": [
    "uid = input(\"enter product id:\")\n",
    "quantity = input(\"Enter product quantity :\")\n"
   ]
  },
  {
   "cell_type": "code",
   "execution_count": null,
   "id": "28a5ac8a",
   "metadata": {
    "scrolled": true
   },
   "outputs": [],
   "source": [
    "# Importing time for transaction timestamp\n",
    "import time\n",
    "\n",
    "# Reading inventory from file\n",
    "fd = open(\"inventory.txt\", \"r\")\n",
    "products = fd.read().split('\\n')\n",
    "fd.close()\n",
    "\n",
    "# User information\n",
    "user_name = input(\"Enter your name\")\n",
    "user_phno = input(\"Enter your phno\")\n",
    "\n",
    "# User input for product and quantity\n",
    "uid = input(\"Enter product id:\")\n",
    "quantity = input(\"Enter product quantity:\")\n",
    "\n",
    "# List to store updated products\n",
    "updated_products = []\n",
    "\n",
    "# Loop through each product detail\n",
    "for product in products:\n",
    "    product_details = product.split(\",\")\n",
    "\n",
    "    # Check if product exists\n",
    "    if product_details[0] == uid:\n",
    "        # Check if enough quantity is available\n",
    "        if int(uid) <= int(product_details[3]):\n",
    "            # Display product details\n",
    "            print('_' * 30)\n",
    "            print(\"Product Name:\", product_details[1])\n",
    "            print(\"Product ID  :\", uid)\n",
    "            print(\"Quantity    :\", product_details[3])\n",
    "            print(\"Price       :\", product_details[2])\n",
    "            print(\"Bill amount :\", int(quantity) * int(product_details[2]))\n",
    "            print('_' * 30)\n",
    "\n",
    "            # Update inventory quantity\n",
    "            product_details[3] = str(int(product_details[3]) - int(quantity))\n",
    "\n",
    "            # Append user details to sales.txt\n",
    "            fd = open(\"sales.txt\", \"a\")\n",
    "            sales_details = user_name + \",\" + user_phno + \",\" + product_details[1] + \",\" + uid + \",\" + quantity + \",\" + str(int(quantity) * int(product_details[2])) + \",\" + time.ctime() + \"\\n\"\n",
    "            fd.write(sales_details)\n",
    "            fd.close()\n",
    "        else:\n",
    "            # Not enough quantity available\n",
    "            print(\"Sorry, we do not have enough quantity.\")\n",
    "            print(\"We only have\", product_details[3], \"quantity.\")\n",
    "            print(\"Would you like to purchase it?\")\n",
    "\n",
    "            ch = input(\"Enter Y/N\")\n",
    "\n",
    "            # Purchase with remaining products\n",
    "            if ch == 'y' or ch == 'Y':\n",
    "                print('_' * 30)\n",
    "                print(\"Product Name:\", product_details[1])\n",
    "                print(\"Product ID  :\", uid)\n",
    "                print(\"Quantity    :\", product_details[3])\n",
    "                print(\"Price       :\", product_details[2])\n",
    "                print(\"Bill amount :\", int(quantity) * int(product_details[2]))\n",
    "                print('_' * 30)\n",
    "            else:\n",
    "                print('Thank you!')\n",
    "\n",
    "            # Append user details to sales.txt\n",
    "            fd = open(\"sales.txt\", \"a\")\n",
    "            sales_details = user_name + \",\" + user_phno + \",\" + product_details[1] + \",\" + uid + \",\" + product_details[\n",
    "                3] + \" \" + str(int(product_details[3]) * int(product_details[2])) + \",\" + time.ctime() + \"\\n\"\n",
    "            fd.write(sales_details)\n",
    "            fd.close()\n",
    "\n",
    "        # Update inventory quantity to 0\n",
    "        product_details[3] = '0'\n",
    "\n",
    "    # Append product details to updated_products list\n",
    "    updated_products.append(product_details)\n",
    "\n",
    "# List to store formatted inventory strings\n",
    "lst = []\n",
    "\n",
    "# Format updated products and append to lst\n",
    "for i in updated_products:\n",
    "    prod = i[0] + \",\" + i[1] + \",\" + i[2] + \",\" + i[3] + \"\\n\"\n",
    "    lst.append(prod)\n",
    "\n",
    "# Remove the newline character from the last element\n",
    "lst[-1] = lst[-1][:-1]\n",
    "\n",
    "# Update inventory file with the formatted data\n",
    "fd = open(\"inventory.txt\", \"w\")\n",
    "for i in lst:\n",
    "    fd.write(i)\n",
    "fd.close()\n",
    "\n",
    "print(\"Inventory updated\")\n"
   ]
  },
  {
   "cell_type": "code",
   "execution_count": null,
   "id": "988515b5",
   "metadata": {},
   "outputs": [],
   "source": [
    "lst = []\n",
    "for i in updated_products:\n",
    "    prod = i[0]+ \",\"+i[1]+\",\"+i[2]+\",\"+i[3]+\"\\n\"\n",
    "    lst.append(prod)"
   ]
  },
  {
   "cell_type": "code",
   "execution_count": null,
   "id": "882332c7",
   "metadata": {},
   "outputs": [],
   "source": [
    "lst"
   ]
  },
  {
   "cell_type": "code",
   "execution_count": 22,
   "id": "66898c4b",
   "metadata": {},
   "outputs": [],
   "source": [
    "lst[-1]=lst[-1][:-1]"
   ]
  },
  {
   "cell_type": "code",
   "execution_count": 24,
   "id": "c69d8e2b",
   "metadata": {},
   "outputs": [
    {
     "data": {
      "text/plain": [
       "['1,chocolate,10,100\\n', '2,biscuits,20,99\\n', '3,veggies,40,100']"
      ]
     },
     "execution_count": 24,
     "metadata": {},
     "output_type": "execute_result"
    }
   ],
   "source": [
    "lst"
   ]
  },
  {
   "cell_type": "code",
   "execution_count": 25,
   "id": "0bd86cb2",
   "metadata": {},
   "outputs": [
    {
     "name": "stdout",
     "output_type": "stream",
     "text": [
      "1,chocolate,10,100\n",
      "2,biscuits,20,100\n",
      "3,veggies,40,1000\n"
     ]
    }
   ],
   "source": [
    "for i in products:\n",
    "    print(i)"
   ]
  },
  {
   "cell_type": "code",
   "execution_count": 26,
   "id": "5a3e85fe",
   "metadata": {},
   "outputs": [
    {
     "name": "stdout",
     "output_type": "stream",
     "text": [
      "['1', 'chocolate', '10', '100']\n",
      "['2', 'biscuits', '20', '99']\n",
      "['3', 'veggies', '40', '1000']\n"
     ]
    }
   ],
   "source": [
    "for i in updated_products:\n",
    "    print(i)"
   ]
  },
  {
   "cell_type": "code",
   "execution_count": 27,
   "id": "ad056d8e",
   "metadata": {},
   "outputs": [
    {
     "name": "stdout",
     "output_type": "stream",
     "text": [
      "1,chocolate,10,100\n",
      "\n",
      "2,biscuits,20,99\n",
      "\n",
      "3,veggies,40,1000\n",
      "\n"
     ]
    }
   ],
   "source": [
    "for i in updated_products:\n",
    "    prod = i[0]+ \",\"+i[1]+\",\"+i[2]+\",\"+i[3]+\"\\n\"\n",
    "    print(prod)\n",
    " "
   ]
  },
  {
   "cell_type": "code",
   "execution_count": 28,
   "id": "24ab2241",
   "metadata": {},
   "outputs": [
    {
     "name": "stdout",
     "output_type": "stream",
     "text": [
      "1\n",
      "chocolate\n",
      "10\n",
      "100\n",
      "2\n",
      "biscuits\n",
      "20\n",
      "99\n",
      "3\n",
      "veggies\n",
      "40\n",
      "1000\n"
     ]
    }
   ],
   "source": [
    "for i in updated_products:\n",
    "    for j in i:\n",
    "        print(j)"
   ]
  },
  {
   "cell_type": "code",
   "execution_count": null,
   "id": "fb1b8cf5",
   "metadata": {},
   "outputs": [],
   "source": [
    "\n"
   ]
  },
  {
   "cell_type": "code",
   "execution_count": null,
   "id": "5de1291a",
   "metadata": {},
   "outputs": [],
   "source": []
  },
  {
   "cell_type": "markdown",
   "id": "7fa35be1",
   "metadata": {},
   "source": [
    " "
   ]
  },
  {
   "cell_type": "code",
   "execution_count": null,
   "id": "43a58f3e",
   "metadata": {},
   "outputs": [],
   "source": []
  },
  {
   "cell_type": "code",
   "execution_count": null,
   "id": "5f225335",
   "metadata": {},
   "outputs": [],
   "source": []
  },
  {
   "cell_type": "code",
   "execution_count": null,
   "id": "e0c75c06",
   "metadata": {},
   "outputs": [],
   "source": []
  },
  {
   "cell_type": "code",
   "execution_count": null,
   "id": "1db1e53d",
   "metadata": {},
   "outputs": [],
   "source": []
  },
  {
   "cell_type": "markdown",
   "id": "027a7e65",
   "metadata": {},
   "source": [
    "## "
   ]
  },
  {
   "cell_type": "code",
   "execution_count": null,
   "id": "4a3e5ba1",
   "metadata": {},
   "outputs": [],
   "source": [
    "\n"
   ]
  },
  {
   "cell_type": "code",
   "execution_count": null,
   "id": "894f8189",
   "metadata": {},
   "outputs": [],
   "source": []
  }
 ],
 "metadata": {
  "kernelspec": {
   "display_name": "Python 3 (ipykernel)",
   "language": "python",
   "name": "python3"
  },
  "language_info": {
   "codemirror_mode": {
    "name": "ipython",
    "version": 3
   },
   "file_extension": ".py",
   "mimetype": "text/x-python",
   "name": "python",
   "nbconvert_exporter": "python",
   "pygments_lexer": "ipython3",
   "version": "3.11.5"
  }
 },
 "nbformat": 4,
 "nbformat_minor": 5
}
